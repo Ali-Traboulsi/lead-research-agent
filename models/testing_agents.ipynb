{
 "cells": [
  {
   "cell_type": "code",
   "id": "initial_id",
   "metadata": {
    "collapsed": true,
    "ExecuteTime": {
     "end_time": "2024-11-10T12:55:54.270444Z",
     "start_time": "2024-11-10T12:55:47.366025Z"
    }
   },
   "source": [
    "import os\n",
    "\n",
    "from accelerate.commands.config.update import description\n",
    "from click import prompt\n",
    "from langchain.chains.sequential import SequentialChain\n",
    "from langchain.chains.summarize.refine_prompts import prompt_template\n",
    "from langchain_cohere import ChatCohere\n",
    "from langchain.prompts import ChatPromptTemplate\n",
    "import os\n",
    "from dotenv import load_dotenv\n",
    "from pydantic.experimental.pipeline import transform\n",
    "from sympy.physics.units import temperature\n",
    "\n",
    "load_dotenv()\n"
   ],
   "outputs": [
    {
     "name": "stderr",
     "output_type": "stream",
     "text": [
      "C:\\Users\\USER\\.virtualenvs\\The_Rocket-q1L1raes\\Lib\\site-packages\\tqdm\\auto.py:21: TqdmWarning: IProgress not found. Please update jupyter and ipywidgets. See https://ipywidgets.readthedocs.io/en/stable/user_install.html\n",
      "  from .autonotebook import tqdm as notebook_tqdm\n"
     ]
    },
    {
     "data": {
      "text/plain": [
       "True"
      ]
     },
     "execution_count": 3,
     "metadata": {},
     "output_type": "execute_result"
    }
   ],
   "execution_count": 3
  },
  {
   "metadata": {
    "ExecuteTime": {
     "end_time": "2024-11-10T12:55:54.680428Z",
     "start_time": "2024-11-10T12:55:54.293580Z"
    }
   },
   "cell_type": "code",
   "source": [
    "\n",
    "api_key = os.getenv(\"COHERE_API_KEY\")\n",
    "cohere_chat = ChatCohere(\n",
    "    api_key=api_key,\n",
    "    temperature=0.0, \n",
    "    max_tokens=100,\n",
    ")\n",
    "\n",
    "\n",
    "system_prompt_template = \"\"\"\n",
    "For the following text, extract the following information:\n",
    "\n",
    "Text:\n",
    "{text}\n",
    "\n",
    "1. What is the main idea of the text?\n",
    "2. What is the main argument of the text?\n",
    "3. What are the main points of the text?\n",
    "4. What are the main examples of the text?\n",
    "\n",
    "Please format the output in a JSON-like structure:\n",
    "- main_idea: The main idea of the text\n",
    "- main_argument: The main argument of the text\n",
    "- main_points: The main points of the text\n",
    "- main_examples: The main examples of the text\n",
    "\"\"\"\n",
    "\n",
    "\n",
    "review_text=\"\"\"The main idea of the text is that the world is a complex place and that we need to be able to understand it in order to make informed decisions. The main argument of the text is that we need to be able to think critically about the information that we are presented with in order to make sense of it. The main points of the text are that the world is a complex place, that we need to be able to think critically about the information that we are presented with, and that we need to be able to make informed decisions. The main examples of the text are that we need to be able to understand the world in order to make informed decisions, that we need to be able to think critically about the information that we are presented with, and that we need to be able to make sense of the information that we are presented with.\"\"\"\n",
    "\n",
    "chat_prompt_template = ChatPromptTemplate.from_template(system_prompt_template)"
   ],
   "id": "bdf78a04f0c86c3f",
   "outputs": [],
   "execution_count": 4
  },
  {
   "metadata": {
    "ExecuteTime": {
     "end_time": "2024-11-10T12:55:57.916052Z",
     "start_time": "2024-11-10T12:55:54.687457Z"
    }
   },
   "cell_type": "code",
   "source": [
    "messages = chat_prompt_template.format_messages(text=review_text)\n",
    "response = cohere_chat(messages)\n",
    "\n",
    "print(response.content)"
   ],
   "id": "847dee3267cd7e6",
   "outputs": [
    {
     "name": "stderr",
     "output_type": "stream",
     "text": [
      "C:\\Users\\USER\\AppData\\Local\\Temp\\ipykernel_6188\\327023887.py:2: LangChainDeprecationWarning: The method `BaseChatModel.__call__` was deprecated in langchain-core 0.1.7 and will be removed in 1.0. Use :meth:`~invoke` instead.\n",
      "  response = cohere_chat(messages)\n"
     ]
    },
    {
     "name": "stdout",
     "output_type": "stream",
     "text": [
      "{\n",
      "  \"main_idea\": \"The world is a complex place and understanding it is crucial for making informed decisions.\",\n",
      "  \"main_argument\": \"Critical thinking is essential to process and comprehend the information we encounter.\",\n",
      "  \"main_points\": [\n",
      "    \"The world's complexity\",\n",
      "    \"The need for critical thinking\",\n",
      "    \"The importance of informed decision-making\"\n",
      "  ],\n",
      "  \"main_examples\": [\n",
      "    \"Understanding the world for informed decision-making\",\n",
      "    \"Applying critical thinking to presented information\",\n",
      "    \"Making sense of information\"\n",
      "  ]\n",
      "}\n"
     ]
    }
   ],
   "execution_count": 5
  },
  {
   "metadata": {
    "ExecuteTime": {
     "end_time": "2024-11-10T12:55:57.940661Z",
     "start_time": "2024-11-10T12:55:57.925462Z"
    }
   },
   "cell_type": "code",
   "source": "main_ideas = response.content.get('main_idea')",
   "id": "62da9f639b7f6fa6",
   "outputs": [
    {
     "ename": "AttributeError",
     "evalue": "'str' object has no attribute 'get'",
     "output_type": "error",
     "traceback": [
      "\u001B[1;31m---------------------------------------------------------------------------\u001B[0m",
      "\u001B[1;31mAttributeError\u001B[0m                            Traceback (most recent call last)",
      "Cell \u001B[1;32mIn[6], line 1\u001B[0m\n\u001B[1;32m----> 1\u001B[0m main_ideas \u001B[38;5;241m=\u001B[39m \u001B[43mresponse\u001B[49m\u001B[38;5;241;43m.\u001B[39;49m\u001B[43mcontent\u001B[49m\u001B[38;5;241;43m.\u001B[39;49m\u001B[43mget\u001B[49m(\u001B[38;5;124m'\u001B[39m\u001B[38;5;124mmain_idea\u001B[39m\u001B[38;5;124m'\u001B[39m)\n",
      "\u001B[1;31mAttributeError\u001B[0m: 'str' object has no attribute 'get'"
     ]
    }
   ],
   "execution_count": 6
  },
  {
   "metadata": {},
   "cell_type": "code",
   "outputs": [],
   "execution_count": null,
   "source": "",
   "id": "c1cd072afdde22f3"
  },
  {
   "metadata": {
    "ExecuteTime": {
     "end_time": "2024-11-10T12:55:57.949003900Z",
     "start_time": "2024-11-10T10:24:20.794893Z"
    }
   },
   "cell_type": "code",
   "source": [
    "from langchain.output_parsers import ResponseSchema, StructuredOutputParser\n",
    "\n",
    "main_idea_schema = ResponseSchema(\n",
    "    name=\"main idea\",\n",
    "    description=\"The main idea of the text\",\n",
    ")\n",
    "\n",
    "main_argument_schema = ResponseSchema(\n",
    "    name=\"main argument\",\n",
    "    description=\"The main argument of the text\",\n",
    ")\n",
    "\n",
    "main_points_schema = ResponseSchema(\n",
    "    name=\"main points\",\n",
    "    description=\"The main points of the text\",\n",
    ")\n",
    "\n",
    "\n",
    "response_schemas = [\n",
    "    main_idea_schema,\n",
    "    main_argument_schema,\n",
    "    main_points_schema,\n",
    "]\n",
    "\n",
    "\n",
    "output_parser = StructuredOutputParser.from_response_schemas(response_schemas)"
   ],
   "id": "3d0f3a88bd7bf8e0",
   "outputs": [],
   "execution_count": 122
  },
  {
   "metadata": {
    "ExecuteTime": {
     "end_time": "2024-11-10T12:55:57.949003900Z",
     "start_time": "2024-11-10T10:28:25.109010Z"
    }
   },
   "cell_type": "code",
   "source": [
    "format_instructions=output_parser.get_format_instructions()\n",
    "print(format_instructions)"
   ],
   "id": "9bcd9fa19cb9c930",
   "outputs": [
    {
     "name": "stdout",
     "output_type": "stream",
     "text": [
      "The output should be a markdown code snippet formatted in the following schema, including the leading and trailing \"```json\" and \"```\":\n",
      "\n",
      "```json\n",
      "{\n",
      "\t\"main idea\": string  // The main idea of the text\n",
      "\t\"main argument\": string  // The main argument of the text\n",
      "\t\"main points\": string  // The main points of the text\n",
      "}\n",
      "```\n"
     ]
    }
   ],
   "execution_count": 127
  },
  {
   "metadata": {
    "ExecuteTime": {
     "end_time": "2024-11-10T12:55:57.949928Z",
     "start_time": "2024-11-10T10:31:08.109730Z"
    }
   },
   "cell_type": "code",
   "source": [
    "system_prompt_2=\"\"\"\n",
    "For the following text, extract the following information:\n",
    "        \n",
    "Text:\n",
    "{text}\n",
    "\n",
    "1. What is the main idea of the text?\n",
    "2. What is the main argument of the text?\n",
    "3. What are the main points of the text?\n",
    "4. What are the main examples of the text?\n",
    "\n",
    "{format_instructions}\n",
    "\"\"\""
   ],
   "id": "799080044c8434",
   "outputs": [],
   "execution_count": 128
  },
  {
   "metadata": {
    "ExecuteTime": {
     "end_time": "2024-11-10T12:55:57.949928Z",
     "start_time": "2024-11-10T10:32:23.123110Z"
    }
   },
   "cell_type": "code",
   "outputs": [],
   "execution_count": 130,
   "source": [
    "chat_prompt_template_2 = ChatPromptTemplate.from_template(system_prompt_2)\n",
    "\n",
    "message_2 = chat_prompt_template_2.format_messages(text=review_text, format_instructions=format_instructions)"
   ],
   "id": "4376c8555b3ec2ba"
  },
  {
   "metadata": {
    "ExecuteTime": {
     "end_time": "2024-11-10T12:55:57.949928Z",
     "start_time": "2024-11-10T10:53:32.494158Z"
    }
   },
   "cell_type": "code",
   "source": [
    "response_2=cohere_chat(message_2)\n",
    "print(response_2.content)"
   ],
   "id": "c0e42812161c3838",
   "outputs": [
    {
     "name": "stdout",
     "output_type": "stream",
     "text": [
      "```json\n",
      "{\n",
      "\t\"main idea\": \"Understanding the complexity of the world and the importance of critical thinking\",\n",
      "\t\"main argument\": \"The necessity of critical thinking to make sense of information and navigate the world\",\n",
      "\t\"main points\": \"The world's complexity, the need for critical thinking, and the ability to make informed decisions\",\n",
      "\t\"main examples\": \"Understanding the world for decision-making, thinking critically about information, and making sense of presented information\"\n",
      "}\n",
      "```\n"
     ]
    }
   ],
   "execution_count": 142
  },
  {
   "metadata": {
    "ExecuteTime": {
     "end_time": "2024-11-10T12:55:57.949928Z",
     "start_time": "2024-11-10T10:55:50.564415Z"
    }
   },
   "cell_type": "code",
   "source": [
    "structured_output = output_parser.parse(response_2.content)\n",
    "print(type(structured_output))"
   ],
   "id": "116caeeefd48b460",
   "outputs": [
    {
     "name": "stdout",
     "output_type": "stream",
     "text": [
      "<class 'dict'>\n"
     ]
    }
   ],
   "execution_count": 145
  },
  {
   "metadata": {
    "ExecuteTime": {
     "end_time": "2024-11-10T12:55:57.949928Z",
     "start_time": "2024-11-10T10:56:15.592705Z"
    }
   },
   "cell_type": "code",
   "source": "print(structured_output.get('main idea')) ",
   "id": "9cc303502548fa04",
   "outputs": [
    {
     "name": "stdout",
     "output_type": "stream",
     "text": [
      "Understanding the complexity of the world and the importance of critical thinking\n"
     ]
    }
   ],
   "execution_count": 146
  },
  {
   "metadata": {},
   "cell_type": "markdown",
   "source": "## SimpleSequentialChain",
   "id": "6d34383493f1f00e"
  },
  {
   "metadata": {
    "ExecuteTime": {
     "end_time": "2024-11-10T13:03:24.846520Z",
     "start_time": "2024-11-10T13:03:24.843070Z"
    }
   },
   "cell_type": "code",
   "source": [
    "from langchain.chains import SequentialChain, SimpleSequentialChain\n",
    "from langchain.chains.transform import TransformChain"
   ],
   "id": "9750972af8496da5",
   "outputs": [],
   "execution_count": 21
  },
  {
   "metadata": {},
   "cell_type": "markdown",
   "source": "",
   "id": "5ea4125055a1887f"
  },
  {
   "metadata": {},
   "cell_type": "code",
   "outputs": [],
   "execution_count": null,
   "source": "",
   "id": "862640dcd762b50e"
  },
  {
   "metadata": {
    "ExecuteTime": {
     "end_time": "2024-11-10T13:42:57.028956Z",
     "start_time": "2024-11-10T13:42:56.681304Z"
    }
   },
   "cell_type": "code",
   "source": [
    "llm = ChatCohere(temperature=0.9, max_tokens=100)\n",
    "    \n",
    "\n",
    "first_prompt = ChatPromptTemplate.from_template(\"What is the best name to describe a company that makes {product}?\")\n",
    "\n",
    "    \n",
    "def generate_company_name(inputs):\n",
    "    product = inputs['product']\n",
    "    # Here you would call your LLM or any logic to generate a company name\n",
    "    return {\"company_name\": f\"Best {product} Co.\"}  # Example output\n",
    "\n",
    "\n",
    "chain_1 = TransformChain(input_variables=[\"product\"], output_variables=[\"company_name\"], transform=generate_company_name)\n"
   ],
   "id": "74ce06d9815b47e8",
   "outputs": [],
   "execution_count": 27
  },
  {
   "metadata": {
    "ExecuteTime": {
     "end_time": "2024-11-10T13:44:42.595309Z",
     "start_time": "2024-11-10T13:44:42.591585Z"
    }
   },
   "cell_type": "code",
   "source": [
    "# second template\n",
    "\n",
    "second_prompt = ChatPromptTemplate.from_template(\n",
    "    \"Write a 20 words description for the following company:{company_name}\"\n",
    ")\n",
    "\n",
    "def generate_description(inputs):\n",
    "    company_name = inputs['company_name']\n",
    "    return {\"description\": f\"{company_name} specializes in eco-friendly products.\"}\n",
    "\n",
    "chain_2 = TransformChain(input_variables=[\"company_name\"], output_variables=[\"description\"], transform=generate_description)\n"
   ],
   "id": "69342fef288a5536",
   "outputs": [],
   "execution_count": 33
  },
  {
   "metadata": {
    "ExecuteTime": {
     "end_time": "2024-11-10T13:59:57.023062Z",
     "start_time": "2024-11-10T13:59:57.019666Z"
    }
   },
   "cell_type": "code",
   "source": [
    "# third template\n",
    "\n",
    "third_prompt = ChatPromptTemplate.from_template(\n",
    "        \"What language is the following review:\\n\\n{Review}\"\n",
    ")\n",
    "\n",
    "def get_review(inputs):\n",
    "    review = inputs['Review']\n",
    "    return f\"review: {review}\"\n",
    "chain_3 = TransformChain(input_variables=[\"Review\"], output_variables=[\"language\"], transform=get_review)"
   ],
   "id": "31bbd8e471245030",
   "outputs": [],
   "execution_count": 48
  },
  {
   "metadata": {
    "ExecuteTime": {
     "end_time": "2024-11-10T14:07:46.338114Z",
     "start_time": "2024-11-10T14:07:46.334196Z"
    }
   },
   "cell_type": "code",
   "source": [
    "# fourth template\n",
    "fourth_prompt = ChatPromptTemplate.from_template(\n",
    "    \"What is the main idea of the following text: \\n\\n{text}\"\n",
    ")\n",
    "\n",
    "def get_main_idea(inputs):\n",
    "    text, language = inputs['text', 'language']\n",
    "    messages = chat_prompt_template.format_messages(text=text, language=language)\n",
    "    response = cohere_chat(messages)\n",
    "    structured_output = output_parser.parse(response.content)\n",
    "    return structured_output\n",
    "\n",
    "chain_4 = TransformChain(input_variables=[\"text\"], output_variables=[\"main_idea\"], transform=get_main_idea)"
   ],
   "id": "4126e7f4cbd3bc54",
   "outputs": [],
   "execution_count": 64
  },
  {
   "metadata": {
    "ExecuteTime": {
     "end_time": "2024-11-10T14:07:48.351358Z",
     "start_time": "2024-11-10T14:07:48.347631Z"
    }
   },
   "cell_type": "code",
   "source": [
    "from langchain.chains import SequentialChain\n",
    "\n",
    "seq_chain = SequentialChain(chains=[chain_1, chain_2, chain_3, chain_4], output_variables=[\"company_name\"], input_variables=[\"Review\", \"product\", \"text\"], verbose=True)"
   ],
   "id": "bb0237ac6385d88c",
   "outputs": [],
   "execution_count": 65
  },
  {
   "metadata": {},
   "cell_type": "markdown",
   "source": "",
   "id": "5a7e9f0a4e3a81c5"
  },
  {
   "metadata": {
    "ExecuteTime": {
     "end_time": "2024-11-10T14:07:50.699062Z",
     "start_time": "2024-11-10T14:07:50.643589Z"
    }
   },
   "cell_type": "code",
   "source": [
    "# Example usage (make sure to provide appropriate inputs)\n",
    "result = seq_chain({\"product\": \"eco-friendly packaging\", \n",
    "                        \"Review\": \"This product is amazing and I would recommend it to everyone!\",\n",
    "                        \"text\": \"The main idea of the text is that the world is a complex place and that we need to be able to understand it in order to make informed decisions.\"\n",
    "                        })\n",
    "print(result)\n"
   ],
   "id": "7639a549268682a4",
   "outputs": [
    {
     "name": "stdout",
     "output_type": "stream",
     "text": [
      "\n",
      "\n",
      "\u001B[1m> Entering new SequentialChain chain...\u001B[0m\n"
     ]
    },
    {
     "ename": "ValueError",
     "evalue": "Missing some output keys: {'language'}",
     "output_type": "error",
     "traceback": [
      "\u001B[1;31m---------------------------------------------------------------------------\u001B[0m",
      "\u001B[1;31mValueError\u001B[0m                                Traceback (most recent call last)",
      "Cell \u001B[1;32mIn[66], line 2\u001B[0m\n\u001B[0;32m      1\u001B[0m \u001B[38;5;66;03m# Example usage (make sure to provide appropriate inputs)\u001B[39;00m\n\u001B[1;32m----> 2\u001B[0m result \u001B[38;5;241m=\u001B[39m \u001B[43mseq_chain\u001B[49m\u001B[43m(\u001B[49m\u001B[43m{\u001B[49m\u001B[38;5;124;43m\"\u001B[39;49m\u001B[38;5;124;43mproduct\u001B[39;49m\u001B[38;5;124;43m\"\u001B[39;49m\u001B[43m:\u001B[49m\u001B[43m \u001B[49m\u001B[38;5;124;43m\"\u001B[39;49m\u001B[38;5;124;43meco-friendly packaging\u001B[39;49m\u001B[38;5;124;43m\"\u001B[39;49m\u001B[43m,\u001B[49m\u001B[43m \u001B[49m\n\u001B[0;32m      3\u001B[0m \u001B[43m                        \u001B[49m\u001B[38;5;124;43m\"\u001B[39;49m\u001B[38;5;124;43mReview\u001B[39;49m\u001B[38;5;124;43m\"\u001B[39;49m\u001B[43m:\u001B[49m\u001B[43m \u001B[49m\u001B[38;5;124;43m\"\u001B[39;49m\u001B[38;5;124;43mThis product is amazing and I would recommend it to everyone!\u001B[39;49m\u001B[38;5;124;43m\"\u001B[39;49m\u001B[43m,\u001B[49m\n\u001B[0;32m      4\u001B[0m \u001B[43m                        \u001B[49m\u001B[38;5;124;43m\"\u001B[39;49m\u001B[38;5;124;43mtext\u001B[39;49m\u001B[38;5;124;43m\"\u001B[39;49m\u001B[43m:\u001B[49m\u001B[43m \u001B[49m\u001B[38;5;124;43m\"\u001B[39;49m\u001B[38;5;124;43mThe main idea of the text is that the world is a complex place and that we need to be able to understand it in order to make informed decisions.\u001B[39;49m\u001B[38;5;124;43m\"\u001B[39;49m\n\u001B[0;32m      5\u001B[0m \u001B[43m                        \u001B[49m\u001B[43m}\u001B[49m\u001B[43m)\u001B[49m\n\u001B[0;32m      6\u001B[0m \u001B[38;5;28mprint\u001B[39m(result)\n",
      "File \u001B[1;32m~\\.virtualenvs\\The_Rocket-q1L1raes\\Lib\\site-packages\\langchain_core\\_api\\deprecation.py:182\u001B[0m, in \u001B[0;36mdeprecated.<locals>.deprecate.<locals>.warning_emitting_wrapper\u001B[1;34m(*args, **kwargs)\u001B[0m\n\u001B[0;32m    180\u001B[0m     warned \u001B[38;5;241m=\u001B[39m \u001B[38;5;28;01mTrue\u001B[39;00m\n\u001B[0;32m    181\u001B[0m     emit_warning()\n\u001B[1;32m--> 182\u001B[0m \u001B[38;5;28;01mreturn\u001B[39;00m \u001B[43mwrapped\u001B[49m\u001B[43m(\u001B[49m\u001B[38;5;241;43m*\u001B[39;49m\u001B[43margs\u001B[49m\u001B[43m,\u001B[49m\u001B[43m \u001B[49m\u001B[38;5;241;43m*\u001B[39;49m\u001B[38;5;241;43m*\u001B[39;49m\u001B[43mkwargs\u001B[49m\u001B[43m)\u001B[49m\n",
      "File \u001B[1;32m~\\.virtualenvs\\The_Rocket-q1L1raes\\Lib\\site-packages\\langchain\\chains\\base.py:389\u001B[0m, in \u001B[0;36mChain.__call__\u001B[1;34m(self, inputs, return_only_outputs, callbacks, tags, metadata, run_name, include_run_info)\u001B[0m\n\u001B[0;32m    357\u001B[0m \u001B[38;5;250m\u001B[39m\u001B[38;5;124;03m\"\"\"Execute the chain.\u001B[39;00m\n\u001B[0;32m    358\u001B[0m \n\u001B[0;32m    359\u001B[0m \u001B[38;5;124;03mArgs:\u001B[39;00m\n\u001B[1;32m   (...)\u001B[0m\n\u001B[0;32m    380\u001B[0m \u001B[38;5;124;03m        `Chain.output_keys`.\u001B[39;00m\n\u001B[0;32m    381\u001B[0m \u001B[38;5;124;03m\"\"\"\u001B[39;00m\n\u001B[0;32m    382\u001B[0m config \u001B[38;5;241m=\u001B[39m {\n\u001B[0;32m    383\u001B[0m     \u001B[38;5;124m\"\u001B[39m\u001B[38;5;124mcallbacks\u001B[39m\u001B[38;5;124m\"\u001B[39m: callbacks,\n\u001B[0;32m    384\u001B[0m     \u001B[38;5;124m\"\u001B[39m\u001B[38;5;124mtags\u001B[39m\u001B[38;5;124m\"\u001B[39m: tags,\n\u001B[0;32m    385\u001B[0m     \u001B[38;5;124m\"\u001B[39m\u001B[38;5;124mmetadata\u001B[39m\u001B[38;5;124m\"\u001B[39m: metadata,\n\u001B[0;32m    386\u001B[0m     \u001B[38;5;124m\"\u001B[39m\u001B[38;5;124mrun_name\u001B[39m\u001B[38;5;124m\"\u001B[39m: run_name,\n\u001B[0;32m    387\u001B[0m }\n\u001B[1;32m--> 389\u001B[0m \u001B[38;5;28;01mreturn\u001B[39;00m \u001B[38;5;28;43mself\u001B[39;49m\u001B[38;5;241;43m.\u001B[39;49m\u001B[43minvoke\u001B[49m\u001B[43m(\u001B[49m\n\u001B[0;32m    390\u001B[0m \u001B[43m    \u001B[49m\u001B[43minputs\u001B[49m\u001B[43m,\u001B[49m\n\u001B[0;32m    391\u001B[0m \u001B[43m    \u001B[49m\u001B[43mcast\u001B[49m\u001B[43m(\u001B[49m\u001B[43mRunnableConfig\u001B[49m\u001B[43m,\u001B[49m\u001B[43m \u001B[49m\u001B[43m{\u001B[49m\u001B[43mk\u001B[49m\u001B[43m:\u001B[49m\u001B[43m \u001B[49m\u001B[43mv\u001B[49m\u001B[43m \u001B[49m\u001B[38;5;28;43;01mfor\u001B[39;49;00m\u001B[43m \u001B[49m\u001B[43mk\u001B[49m\u001B[43m,\u001B[49m\u001B[43m \u001B[49m\u001B[43mv\u001B[49m\u001B[43m \u001B[49m\u001B[38;5;129;43;01min\u001B[39;49;00m\u001B[43m \u001B[49m\u001B[43mconfig\u001B[49m\u001B[38;5;241;43m.\u001B[39;49m\u001B[43mitems\u001B[49m\u001B[43m(\u001B[49m\u001B[43m)\u001B[49m\u001B[43m \u001B[49m\u001B[38;5;28;43;01mif\u001B[39;49;00m\u001B[43m \u001B[49m\u001B[43mv\u001B[49m\u001B[43m \u001B[49m\u001B[38;5;129;43;01mis\u001B[39;49;00m\u001B[43m \u001B[49m\u001B[38;5;129;43;01mnot\u001B[39;49;00m\u001B[43m \u001B[49m\u001B[38;5;28;43;01mNone\u001B[39;49;00m\u001B[43m}\u001B[49m\u001B[43m)\u001B[49m\u001B[43m,\u001B[49m\n\u001B[0;32m    392\u001B[0m \u001B[43m    \u001B[49m\u001B[43mreturn_only_outputs\u001B[49m\u001B[38;5;241;43m=\u001B[39;49m\u001B[43mreturn_only_outputs\u001B[49m\u001B[43m,\u001B[49m\n\u001B[0;32m    393\u001B[0m \u001B[43m    \u001B[49m\u001B[43minclude_run_info\u001B[49m\u001B[38;5;241;43m=\u001B[39;49m\u001B[43minclude_run_info\u001B[49m\u001B[43m,\u001B[49m\n\u001B[0;32m    394\u001B[0m \u001B[43m\u001B[49m\u001B[43m)\u001B[49m\n",
      "File \u001B[1;32m~\\.virtualenvs\\The_Rocket-q1L1raes\\Lib\\site-packages\\langchain\\chains\\base.py:170\u001B[0m, in \u001B[0;36mChain.invoke\u001B[1;34m(self, input, config, **kwargs)\u001B[0m\n\u001B[0;32m    168\u001B[0m \u001B[38;5;28;01mexcept\u001B[39;00m \u001B[38;5;167;01mBaseException\u001B[39;00m \u001B[38;5;28;01mas\u001B[39;00m e:\n\u001B[0;32m    169\u001B[0m     run_manager\u001B[38;5;241m.\u001B[39mon_chain_error(e)\n\u001B[1;32m--> 170\u001B[0m     \u001B[38;5;28;01mraise\u001B[39;00m e\n\u001B[0;32m    171\u001B[0m run_manager\u001B[38;5;241m.\u001B[39mon_chain_end(outputs)\n\u001B[0;32m    173\u001B[0m \u001B[38;5;28;01mif\u001B[39;00m include_run_info:\n",
      "File \u001B[1;32m~\\.virtualenvs\\The_Rocket-q1L1raes\\Lib\\site-packages\\langchain\\chains\\base.py:160\u001B[0m, in \u001B[0;36mChain.invoke\u001B[1;34m(self, input, config, **kwargs)\u001B[0m\n\u001B[0;32m    157\u001B[0m \u001B[38;5;28;01mtry\u001B[39;00m:\n\u001B[0;32m    158\u001B[0m     \u001B[38;5;28mself\u001B[39m\u001B[38;5;241m.\u001B[39m_validate_inputs(inputs)\n\u001B[0;32m    159\u001B[0m     outputs \u001B[38;5;241m=\u001B[39m (\n\u001B[1;32m--> 160\u001B[0m         \u001B[38;5;28;43mself\u001B[39;49m\u001B[38;5;241;43m.\u001B[39;49m\u001B[43m_call\u001B[49m\u001B[43m(\u001B[49m\u001B[43minputs\u001B[49m\u001B[43m,\u001B[49m\u001B[43m \u001B[49m\u001B[43mrun_manager\u001B[49m\u001B[38;5;241;43m=\u001B[39;49m\u001B[43mrun_manager\u001B[49m\u001B[43m)\u001B[49m\n\u001B[0;32m    161\u001B[0m         \u001B[38;5;28;01mif\u001B[39;00m new_arg_supported\n\u001B[0;32m    162\u001B[0m         \u001B[38;5;28;01melse\u001B[39;00m \u001B[38;5;28mself\u001B[39m\u001B[38;5;241m.\u001B[39m_call(inputs)\n\u001B[0;32m    163\u001B[0m     )\n\u001B[0;32m    165\u001B[0m     final_outputs: Dict[\u001B[38;5;28mstr\u001B[39m, Any] \u001B[38;5;241m=\u001B[39m \u001B[38;5;28mself\u001B[39m\u001B[38;5;241m.\u001B[39mprep_outputs(\n\u001B[0;32m    166\u001B[0m         inputs, outputs, return_only_outputs\n\u001B[0;32m    167\u001B[0m     )\n\u001B[0;32m    168\u001B[0m \u001B[38;5;28;01mexcept\u001B[39;00m \u001B[38;5;167;01mBaseException\u001B[39;00m \u001B[38;5;28;01mas\u001B[39;00m e:\n",
      "File \u001B[1;32m~\\.virtualenvs\\The_Rocket-q1L1raes\\Lib\\site-packages\\langchain\\chains\\sequential.py:107\u001B[0m, in \u001B[0;36mSequentialChain._call\u001B[1;34m(self, inputs, run_manager)\u001B[0m\n\u001B[0;32m    105\u001B[0m \u001B[38;5;28;01mfor\u001B[39;00m i, chain \u001B[38;5;129;01min\u001B[39;00m \u001B[38;5;28menumerate\u001B[39m(\u001B[38;5;28mself\u001B[39m\u001B[38;5;241m.\u001B[39mchains):\n\u001B[0;32m    106\u001B[0m     callbacks \u001B[38;5;241m=\u001B[39m _run_manager\u001B[38;5;241m.\u001B[39mget_child()\n\u001B[1;32m--> 107\u001B[0m     outputs \u001B[38;5;241m=\u001B[39m \u001B[43mchain\u001B[49m\u001B[43m(\u001B[49m\u001B[43mknown_values\u001B[49m\u001B[43m,\u001B[49m\u001B[43m \u001B[49m\u001B[43mreturn_only_outputs\u001B[49m\u001B[38;5;241;43m=\u001B[39;49m\u001B[38;5;28;43;01mTrue\u001B[39;49;00m\u001B[43m,\u001B[49m\u001B[43m \u001B[49m\u001B[43mcallbacks\u001B[49m\u001B[38;5;241;43m=\u001B[39;49m\u001B[43mcallbacks\u001B[49m\u001B[43m)\u001B[49m\n\u001B[0;32m    108\u001B[0m     known_values\u001B[38;5;241m.\u001B[39mupdate(outputs)\n\u001B[0;32m    109\u001B[0m \u001B[38;5;28;01mreturn\u001B[39;00m {k: known_values[k] \u001B[38;5;28;01mfor\u001B[39;00m k \u001B[38;5;129;01min\u001B[39;00m \u001B[38;5;28mself\u001B[39m\u001B[38;5;241m.\u001B[39moutput_variables}\n",
      "File \u001B[1;32m~\\.virtualenvs\\The_Rocket-q1L1raes\\Lib\\site-packages\\langchain_core\\_api\\deprecation.py:182\u001B[0m, in \u001B[0;36mdeprecated.<locals>.deprecate.<locals>.warning_emitting_wrapper\u001B[1;34m(*args, **kwargs)\u001B[0m\n\u001B[0;32m    180\u001B[0m     warned \u001B[38;5;241m=\u001B[39m \u001B[38;5;28;01mTrue\u001B[39;00m\n\u001B[0;32m    181\u001B[0m     emit_warning()\n\u001B[1;32m--> 182\u001B[0m \u001B[38;5;28;01mreturn\u001B[39;00m \u001B[43mwrapped\u001B[49m\u001B[43m(\u001B[49m\u001B[38;5;241;43m*\u001B[39;49m\u001B[43margs\u001B[49m\u001B[43m,\u001B[49m\u001B[43m \u001B[49m\u001B[38;5;241;43m*\u001B[39;49m\u001B[38;5;241;43m*\u001B[39;49m\u001B[43mkwargs\u001B[49m\u001B[43m)\u001B[49m\n",
      "File \u001B[1;32m~\\.virtualenvs\\The_Rocket-q1L1raes\\Lib\\site-packages\\langchain\\chains\\base.py:389\u001B[0m, in \u001B[0;36mChain.__call__\u001B[1;34m(self, inputs, return_only_outputs, callbacks, tags, metadata, run_name, include_run_info)\u001B[0m\n\u001B[0;32m    357\u001B[0m \u001B[38;5;250m\u001B[39m\u001B[38;5;124;03m\"\"\"Execute the chain.\u001B[39;00m\n\u001B[0;32m    358\u001B[0m \n\u001B[0;32m    359\u001B[0m \u001B[38;5;124;03mArgs:\u001B[39;00m\n\u001B[1;32m   (...)\u001B[0m\n\u001B[0;32m    380\u001B[0m \u001B[38;5;124;03m        `Chain.output_keys`.\u001B[39;00m\n\u001B[0;32m    381\u001B[0m \u001B[38;5;124;03m\"\"\"\u001B[39;00m\n\u001B[0;32m    382\u001B[0m config \u001B[38;5;241m=\u001B[39m {\n\u001B[0;32m    383\u001B[0m     \u001B[38;5;124m\"\u001B[39m\u001B[38;5;124mcallbacks\u001B[39m\u001B[38;5;124m\"\u001B[39m: callbacks,\n\u001B[0;32m    384\u001B[0m     \u001B[38;5;124m\"\u001B[39m\u001B[38;5;124mtags\u001B[39m\u001B[38;5;124m\"\u001B[39m: tags,\n\u001B[0;32m    385\u001B[0m     \u001B[38;5;124m\"\u001B[39m\u001B[38;5;124mmetadata\u001B[39m\u001B[38;5;124m\"\u001B[39m: metadata,\n\u001B[0;32m    386\u001B[0m     \u001B[38;5;124m\"\u001B[39m\u001B[38;5;124mrun_name\u001B[39m\u001B[38;5;124m\"\u001B[39m: run_name,\n\u001B[0;32m    387\u001B[0m }\n\u001B[1;32m--> 389\u001B[0m \u001B[38;5;28;01mreturn\u001B[39;00m \u001B[38;5;28;43mself\u001B[39;49m\u001B[38;5;241;43m.\u001B[39;49m\u001B[43minvoke\u001B[49m\u001B[43m(\u001B[49m\n\u001B[0;32m    390\u001B[0m \u001B[43m    \u001B[49m\u001B[43minputs\u001B[49m\u001B[43m,\u001B[49m\n\u001B[0;32m    391\u001B[0m \u001B[43m    \u001B[49m\u001B[43mcast\u001B[49m\u001B[43m(\u001B[49m\u001B[43mRunnableConfig\u001B[49m\u001B[43m,\u001B[49m\u001B[43m \u001B[49m\u001B[43m{\u001B[49m\u001B[43mk\u001B[49m\u001B[43m:\u001B[49m\u001B[43m \u001B[49m\u001B[43mv\u001B[49m\u001B[43m \u001B[49m\u001B[38;5;28;43;01mfor\u001B[39;49;00m\u001B[43m \u001B[49m\u001B[43mk\u001B[49m\u001B[43m,\u001B[49m\u001B[43m \u001B[49m\u001B[43mv\u001B[49m\u001B[43m \u001B[49m\u001B[38;5;129;43;01min\u001B[39;49;00m\u001B[43m \u001B[49m\u001B[43mconfig\u001B[49m\u001B[38;5;241;43m.\u001B[39;49m\u001B[43mitems\u001B[49m\u001B[43m(\u001B[49m\u001B[43m)\u001B[49m\u001B[43m \u001B[49m\u001B[38;5;28;43;01mif\u001B[39;49;00m\u001B[43m \u001B[49m\u001B[43mv\u001B[49m\u001B[43m \u001B[49m\u001B[38;5;129;43;01mis\u001B[39;49;00m\u001B[43m \u001B[49m\u001B[38;5;129;43;01mnot\u001B[39;49;00m\u001B[43m \u001B[49m\u001B[38;5;28;43;01mNone\u001B[39;49;00m\u001B[43m}\u001B[49m\u001B[43m)\u001B[49m\u001B[43m,\u001B[49m\n\u001B[0;32m    392\u001B[0m \u001B[43m    \u001B[49m\u001B[43mreturn_only_outputs\u001B[49m\u001B[38;5;241;43m=\u001B[39;49m\u001B[43mreturn_only_outputs\u001B[49m\u001B[43m,\u001B[49m\n\u001B[0;32m    393\u001B[0m \u001B[43m    \u001B[49m\u001B[43minclude_run_info\u001B[49m\u001B[38;5;241;43m=\u001B[39;49m\u001B[43minclude_run_info\u001B[49m\u001B[43m,\u001B[49m\n\u001B[0;32m    394\u001B[0m \u001B[43m\u001B[49m\u001B[43m)\u001B[49m\n",
      "File \u001B[1;32m~\\.virtualenvs\\The_Rocket-q1L1raes\\Lib\\site-packages\\langchain\\chains\\base.py:170\u001B[0m, in \u001B[0;36mChain.invoke\u001B[1;34m(self, input, config, **kwargs)\u001B[0m\n\u001B[0;32m    168\u001B[0m \u001B[38;5;28;01mexcept\u001B[39;00m \u001B[38;5;167;01mBaseException\u001B[39;00m \u001B[38;5;28;01mas\u001B[39;00m e:\n\u001B[0;32m    169\u001B[0m     run_manager\u001B[38;5;241m.\u001B[39mon_chain_error(e)\n\u001B[1;32m--> 170\u001B[0m     \u001B[38;5;28;01mraise\u001B[39;00m e\n\u001B[0;32m    171\u001B[0m run_manager\u001B[38;5;241m.\u001B[39mon_chain_end(outputs)\n\u001B[0;32m    173\u001B[0m \u001B[38;5;28;01mif\u001B[39;00m include_run_info:\n",
      "File \u001B[1;32m~\\.virtualenvs\\The_Rocket-q1L1raes\\Lib\\site-packages\\langchain\\chains\\base.py:165\u001B[0m, in \u001B[0;36mChain.invoke\u001B[1;34m(self, input, config, **kwargs)\u001B[0m\n\u001B[0;32m    158\u001B[0m     \u001B[38;5;28mself\u001B[39m\u001B[38;5;241m.\u001B[39m_validate_inputs(inputs)\n\u001B[0;32m    159\u001B[0m     outputs \u001B[38;5;241m=\u001B[39m (\n\u001B[0;32m    160\u001B[0m         \u001B[38;5;28mself\u001B[39m\u001B[38;5;241m.\u001B[39m_call(inputs, run_manager\u001B[38;5;241m=\u001B[39mrun_manager)\n\u001B[0;32m    161\u001B[0m         \u001B[38;5;28;01mif\u001B[39;00m new_arg_supported\n\u001B[0;32m    162\u001B[0m         \u001B[38;5;28;01melse\u001B[39;00m \u001B[38;5;28mself\u001B[39m\u001B[38;5;241m.\u001B[39m_call(inputs)\n\u001B[0;32m    163\u001B[0m     )\n\u001B[1;32m--> 165\u001B[0m     final_outputs: Dict[\u001B[38;5;28mstr\u001B[39m, Any] \u001B[38;5;241m=\u001B[39m \u001B[38;5;28;43mself\u001B[39;49m\u001B[38;5;241;43m.\u001B[39;49m\u001B[43mprep_outputs\u001B[49m\u001B[43m(\u001B[49m\n\u001B[0;32m    166\u001B[0m \u001B[43m        \u001B[49m\u001B[43minputs\u001B[49m\u001B[43m,\u001B[49m\u001B[43m \u001B[49m\u001B[43moutputs\u001B[49m\u001B[43m,\u001B[49m\u001B[43m \u001B[49m\u001B[43mreturn_only_outputs\u001B[49m\n\u001B[0;32m    167\u001B[0m \u001B[43m    \u001B[49m\u001B[43m)\u001B[49m\n\u001B[0;32m    168\u001B[0m \u001B[38;5;28;01mexcept\u001B[39;00m \u001B[38;5;167;01mBaseException\u001B[39;00m \u001B[38;5;28;01mas\u001B[39;00m e:\n\u001B[0;32m    169\u001B[0m     run_manager\u001B[38;5;241m.\u001B[39mon_chain_error(e)\n",
      "File \u001B[1;32m~\\.virtualenvs\\The_Rocket-q1L1raes\\Lib\\site-packages\\langchain\\chains\\base.py:464\u001B[0m, in \u001B[0;36mChain.prep_outputs\u001B[1;34m(self, inputs, outputs, return_only_outputs)\u001B[0m\n\u001B[0;32m    446\u001B[0m \u001B[38;5;28;01mdef\u001B[39;00m \u001B[38;5;21mprep_outputs\u001B[39m(\n\u001B[0;32m    447\u001B[0m     \u001B[38;5;28mself\u001B[39m,\n\u001B[0;32m    448\u001B[0m     inputs: Dict[\u001B[38;5;28mstr\u001B[39m, \u001B[38;5;28mstr\u001B[39m],\n\u001B[0;32m    449\u001B[0m     outputs: Dict[\u001B[38;5;28mstr\u001B[39m, \u001B[38;5;28mstr\u001B[39m],\n\u001B[0;32m    450\u001B[0m     return_only_outputs: \u001B[38;5;28mbool\u001B[39m \u001B[38;5;241m=\u001B[39m \u001B[38;5;28;01mFalse\u001B[39;00m,\n\u001B[0;32m    451\u001B[0m ) \u001B[38;5;241m-\u001B[39m\u001B[38;5;241m>\u001B[39m Dict[\u001B[38;5;28mstr\u001B[39m, \u001B[38;5;28mstr\u001B[39m]:\n\u001B[0;32m    452\u001B[0m \u001B[38;5;250m    \u001B[39m\u001B[38;5;124;03m\"\"\"Validate and prepare chain outputs, and save info about this run to memory.\u001B[39;00m\n\u001B[0;32m    453\u001B[0m \n\u001B[0;32m    454\u001B[0m \u001B[38;5;124;03m    Args:\u001B[39;00m\n\u001B[1;32m   (...)\u001B[0m\n\u001B[0;32m    462\u001B[0m \u001B[38;5;124;03m        A dict of the final chain outputs.\u001B[39;00m\n\u001B[0;32m    463\u001B[0m \u001B[38;5;124;03m    \"\"\"\u001B[39;00m\n\u001B[1;32m--> 464\u001B[0m     \u001B[38;5;28;43mself\u001B[39;49m\u001B[38;5;241;43m.\u001B[39;49m\u001B[43m_validate_outputs\u001B[49m\u001B[43m(\u001B[49m\u001B[43moutputs\u001B[49m\u001B[43m)\u001B[49m\n\u001B[0;32m    465\u001B[0m     \u001B[38;5;28;01mif\u001B[39;00m \u001B[38;5;28mself\u001B[39m\u001B[38;5;241m.\u001B[39mmemory \u001B[38;5;129;01mis\u001B[39;00m \u001B[38;5;129;01mnot\u001B[39;00m \u001B[38;5;28;01mNone\u001B[39;00m:\n\u001B[0;32m    466\u001B[0m         \u001B[38;5;28mself\u001B[39m\u001B[38;5;241m.\u001B[39mmemory\u001B[38;5;241m.\u001B[39msave_context(inputs, outputs)\n",
      "File \u001B[1;32m~\\.virtualenvs\\The_Rocket-q1L1raes\\Lib\\site-packages\\langchain\\chains\\base.py:295\u001B[0m, in \u001B[0;36mChain._validate_outputs\u001B[1;34m(self, outputs)\u001B[0m\n\u001B[0;32m    293\u001B[0m missing_keys \u001B[38;5;241m=\u001B[39m \u001B[38;5;28mset\u001B[39m(\u001B[38;5;28mself\u001B[39m\u001B[38;5;241m.\u001B[39moutput_keys)\u001B[38;5;241m.\u001B[39mdifference(outputs)\n\u001B[0;32m    294\u001B[0m \u001B[38;5;28;01mif\u001B[39;00m missing_keys:\n\u001B[1;32m--> 295\u001B[0m     \u001B[38;5;28;01mraise\u001B[39;00m \u001B[38;5;167;01mValueError\u001B[39;00m(\u001B[38;5;124mf\u001B[39m\u001B[38;5;124m\"\u001B[39m\u001B[38;5;124mMissing some output keys: \u001B[39m\u001B[38;5;132;01m{\u001B[39;00mmissing_keys\u001B[38;5;132;01m}\u001B[39;00m\u001B[38;5;124m\"\u001B[39m)\n",
      "\u001B[1;31mValueError\u001B[0m: Missing some output keys: {'language'}"
     ]
    }
   ],
   "execution_count": 66
  },
  {
   "metadata": {},
   "cell_type": "code",
   "outputs": [],
   "execution_count": null,
   "source": "",
   "id": "379b0a53dac1f47b"
  }
 ],
 "metadata": {
  "kernelspec": {
   "display_name": "langchain",
   "language": "python",
   "name": "langchain"
  },
  "language_info": {
   "codemirror_mode": {
    "name": "ipython",
    "version": 2
   },
   "file_extension": ".py",
   "mimetype": "text/x-python",
   "name": "python",
   "nbconvert_exporter": "python",
   "pygments_lexer": "ipython2",
   "version": "2.7.6"
  }
 },
 "nbformat": 4,
 "nbformat_minor": 5
}
